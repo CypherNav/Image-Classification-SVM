{
 "cells": [
  {
   "cell_type": "markdown",
   "source": [
    "## Importing Libraries"
   ],
   "metadata": {}
  },
  {
   "cell_type": "code",
   "execution_count": 48,
   "source": [
    "import numpy as np\r\n",
    "import os\r\n",
    "from pathlib import Path\r\n",
    "import matplotlib.pyplot as plt\r\n",
    "from keras.preprocessing import image\r\n",
    "import random"
   ],
   "outputs": [],
   "metadata": {}
  },
  {
   "cell_type": "markdown",
   "source": [
    "## Data Prepration "
   ],
   "metadata": {}
  },
  {
   "cell_type": "code",
   "execution_count": 74,
   "source": [
    "Dataset_path=Path(\"./Dataset/\")\r\n",
    "Folders=Dataset_path.glob('*')\r\n",
    "label_map={\"Cat\":0,\"Dog\":1,\"Horse\":2,\"Human\":3}\r\n",
    "image_data=[]\r\n",
    "labels=[]\r\n",
    "\r\n",
    "for folder in Folders:\r\n",
    "    label=str(folder).split(\"\\\\\")[-1]\r\n",
    "    for img in folder.glob('*.jpg'):\r\n",
    "        Image=image.load_img(img,target_size=(30,30))\r\n",
    "        Image=image.img_to_array(Image)\r\n",
    "        image_data.append(Image)\r\n",
    "        labels.append(label_map[label])\r\n"
   ],
   "outputs": [],
   "metadata": {}
  },
  {
   "cell_type": "markdown",
   "source": [
    "### Shuffling Data"
   ],
   "metadata": {}
  },
  {
   "cell_type": "code",
   "execution_count": 76,
   "source": [
    "Combined_data=list(zip(image_data,labels))\r\n",
    "random.shuffle(Combined_data)\r\n",
    "image_data,labels=list(zip(*Combined_data))\r\n",
    "\r\n",
    "image_data=np.array(image_data,dtype=\"int32\")\r\n",
    "labels=np.array(labels,dtype=\"int32\")\r\n",
    "print(image_data.shape,labels.shape)"
   ],
   "outputs": [
    {
     "output_type": "stream",
     "name": "stdout",
     "text": [
      "(808, 30, 30, 3) (808,)\n"
     ]
    }
   ],
   "metadata": {}
  },
  {
   "cell_type": "markdown",
   "source": [
    "### Class Wise Data"
   ],
   "metadata": {}
  },
  {
   "cell_type": "code",
   "execution_count": 81,
   "source": [
    "data={}\r\n",
    "num_class=len(np.unique(labels))\r\n",
    "\r\n",
    "for classes in range(num_class):\r\n",
    "    data[classes]=[]\r\n",
    "\r\n",
    "for data_idx in range(image_data.shape[0]):\r\n",
    "    data[labels[data_idx]].append(image_data[data_idx])\r\n",
    "\r\n",
    "for data_idx in range(num_class):\r\n",
    "    data[data_idx]=np.array(data[data_idx])"
   ],
   "outputs": [],
   "metadata": {}
  },
  {
   "cell_type": "markdown",
   "source": [
    "### One vs One Classification Using SVM"
   ],
   "metadata": {}
  },
  {
   "cell_type": "code",
   "execution_count": null,
   "source": [
    "def PairData(Data1,Data2):\r\n",
    "    \"\"\"Combines data of two class and returns with label for SVM\"\"\"\r\n",
    "    \r\n",
    "    size1=Data1.shape[0]\r\n",
    "    size2=Data2.shape[0]\r\n",
    "    total_data=size1+size2\r\n",
    "    num_features=Data1.shape[1]\r\n",
    "\r\n",
    "    Processed_data=np.zeroes((total_data,num_features))\r\n",
    "    Processed_label=np.zeroes((total_data,))\r\n",
    "\r\n",
    "    Processed_data[:size1,:]=Data1\r\n",
    "    Processed_data[size1:,:]=Data2\r\n",
    "\r\n",
    "    Processed_label[:size1]=1\r\n",
    "    Processed_label[size1:]=-1\r\n",
    "\r\n",
    "    return Processed_data,Processed_label\r\n",
    "\r\n",
    "\r\n",
    "\r\n"
   ],
   "outputs": [],
   "metadata": {}
  }
 ],
 "metadata": {
  "orig_nbformat": 4,
  "language_info": {
   "name": "python",
   "version": "3.8.2",
   "mimetype": "text/x-python",
   "codemirror_mode": {
    "name": "ipython",
    "version": 3
   },
   "pygments_lexer": "ipython3",
   "nbconvert_exporter": "python",
   "file_extension": ".py"
  },
  "kernelspec": {
   "name": "python3",
   "display_name": "Python 3.8.2 64-bit"
  },
  "interpreter": {
   "hash": "6e630777a94324836ce00539be2ee09e2f52f25f70997deb1c1c7b6645971ea3"
  }
 },
 "nbformat": 4,
 "nbformat_minor": 2
}